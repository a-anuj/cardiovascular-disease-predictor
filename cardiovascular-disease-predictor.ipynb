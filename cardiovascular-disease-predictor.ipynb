{
 "cells": [
  {
   "cell_type": "code",
   "execution_count": 2,
   "id": "1c45ef2f-bec7-41c5-801b-a19491f7584d",
   "metadata": {},
   "outputs": [],
   "source": [
    "import pandas as pd\n",
    "import numpy as np"
   ]
  },
  {
   "cell_type": "code",
   "execution_count": 8,
   "id": "da260874-36f0-4e6b-8d80-8f516dd337da",
   "metadata": {
    "scrolled": true
   },
   "outputs": [
    {
     "name": "stdout",
     "output_type": "stream",
     "text": [
      "   patientid  age  gender  chestpain  restingBP  serumcholestrol  \\\n",
      "0     103368   53       1          2        171                0   \n",
      "1     119250   40       1          0         94              229   \n",
      "2     119372   49       1          2        133              142   \n",
      "3     132514   43       1          0        138              295   \n",
      "4     146211   31       1          1        199                0   \n",
      "\n",
      "   fastingbloodsugar  restingrelectro  maxheartrate  exerciseangia  oldpeak  \\\n",
      "0                  0                1           147              0      5.3   \n",
      "1                  0                1           115              0      3.7   \n",
      "2                  0                0           202              1      5.0   \n",
      "3                  1                1           153              0      3.2   \n",
      "4                  0                2           136              0      5.3   \n",
      "\n",
      "   slope  noofmajorvessels  target  \n",
      "0      3                 3       1  \n",
      "1      1                 1       0  \n",
      "2      1                 0       0  \n",
      "3      2                 2       1  \n",
      "4      3                 2       1  \n"
     ]
    }
   ],
   "source": [
    "df = pd.read_csv(\"Cardiovascular_Disease_Dataset.csv\")\n",
    "print(df.head())"
   ]
  },
  {
   "cell_type": "code",
   "execution_count": 14,
   "id": "6bd9caf2-c8b0-4c74-ab7d-c8b914092379",
   "metadata": {
    "scrolled": true
   },
   "outputs": [
    {
     "name": "stdout",
     "output_type": "stream",
     "text": [
      "     age  gender  chestpain  restingBP  serumcholestrol  fastingbloodsugar  \\\n",
      "0     53       1          2        171                0                  0   \n",
      "1     40       1          0         94              229                  0   \n",
      "2     49       1          2        133              142                  0   \n",
      "3     43       1          0        138              295                  1   \n",
      "4     31       1          1        199                0                  0   \n",
      "..   ...     ...        ...        ...              ...                ...   \n",
      "995   48       1          2        139              349                  0   \n",
      "996   47       1          3        143              258                  1   \n",
      "997   69       1          0        156              434                  1   \n",
      "998   45       1          1        186              417                  0   \n",
      "999   25       1          0        158              270                  0   \n",
      "\n",
      "     restingrelectro  maxheartrate  exerciseangia  oldpeak  slope  \\\n",
      "0                  1           147              0      5.3      3   \n",
      "1                  1           115              0      3.7      1   \n",
      "2                  0           202              1      5.0      1   \n",
      "3                  1           153              0      3.2      2   \n",
      "4                  2           136              0      5.3      3   \n",
      "..               ...           ...            ...      ...    ...   \n",
      "995                2           183              1      5.6      2   \n",
      "996                1            98              1      5.7      1   \n",
      "997                0           196              0      1.4      3   \n",
      "998                1           117              1      5.9      3   \n",
      "999                0           143              1      4.7      0   \n",
      "\n",
      "     noofmajorvessels  \n",
      "0                   3  \n",
      "1                   1  \n",
      "2                   0  \n",
      "3                   2  \n",
      "4                   2  \n",
      "..                ...  \n",
      "995                 2  \n",
      "996                 0  \n",
      "997                 1  \n",
      "998                 2  \n",
      "999                 0  \n",
      "\n",
      "[1000 rows x 12 columns]\n",
      "0      1\n",
      "1      0\n",
      "2      0\n",
      "3      1\n",
      "4      1\n",
      "      ..\n",
      "995    1\n",
      "996    0\n",
      "997    1\n",
      "998    1\n",
      "999    0\n",
      "Name: target, Length: 1000, dtype: int64\n"
     ]
    }
   ],
   "source": [
    "x_train = df.drop([\"target\",\"patientid\"],axis=1)\n",
    "y_train = df[\"target\"]\n",
    "print(x_train)\n",
    "print(y_train)"
   ]
  },
  {
   "cell_type": "code",
   "execution_count": null,
   "id": "7f6e18e7-a4e7-4ad4-b475-f838c840b990",
   "metadata": {},
   "outputs": [],
   "source": [
    "def sigmoid(z):\n",
    "    return 1/(1+np.exp(-z))"
   ]
  },
  {
   "cell_type": "code",
   "execution_count": 16,
   "id": "5e80189e-5e5e-4d56-8bea-636e93c0765b",
   "metadata": {},
   "outputs": [],
   "source": [
    "def compute_logistic_cost(x,y,w,b):\n",
    "    m = x.shape[0]\n",
    "    cost = 0\n",
    "    for i in range(m):\n",
    "        z = np.dot(w,x[i]) + b\n",
    "        f_wb = sigmoid(z)\n",
    "        cost += -y[i] * np.log(f_wb) - (1-y[i])*np.log(1-f_wb)\n",
    "    return cost/m\n",
    "        "
   ]
  },
  {
   "cell_type": "code",
   "execution_count": null,
   "id": "1027672c-5b7f-4f8a-b14e-b2ed189db516",
   "metadata": {},
   "outputs": [],
   "source": [
    "def compute_gradient(x,y,w,b):\n",
    "    m,n = x.shape\n",
    "    dj_dw = np.zeros(n)\n",
    "    dj_db = 0\n",
    "    for i in range(m):\n",
    "        f_wb = sigmoid(np.dot(x[i],w)+b)\n",
    "        err = f_wb - y[i]\n",
    "        for j in range(n):\n",
    "            dj_dw[j] += err * x[i,j]"
   ]
  }
 ],
 "metadata": {
  "kernelspec": {
   "display_name": "Python 3 (ipykernel)",
   "language": "python",
   "name": "python3"
  },
  "language_info": {
   "codemirror_mode": {
    "name": "ipython",
    "version": 3
   },
   "file_extension": ".py",
   "mimetype": "text/x-python",
   "name": "python",
   "nbconvert_exporter": "python",
   "pygments_lexer": "ipython3",
   "version": "3.12.7"
  }
 },
 "nbformat": 4,
 "nbformat_minor": 5
}
