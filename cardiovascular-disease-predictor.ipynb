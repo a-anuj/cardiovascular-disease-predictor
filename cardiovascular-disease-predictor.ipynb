{
 "cells": [
  {
   "cell_type": "code",
   "execution_count": 28,
   "id": "1c45ef2f-bec7-41c5-801b-a19491f7584d",
   "metadata": {},
   "outputs": [],
   "source": [
    "import pandas as pd\n",
    "import numpy as np"
   ]
  },
  {
   "cell_type": "code",
   "execution_count": 30,
   "id": "da260874-36f0-4e6b-8d80-8f516dd337da",
   "metadata": {
    "scrolled": true
   },
   "outputs": [
    {
     "name": "stdout",
     "output_type": "stream",
     "text": [
      "   patientid  age  gender  chestpain  restingBP  serumcholestrol  \\\n",
      "0     103368   53       1          2        171                0   \n",
      "1     119250   40       1          0         94              229   \n",
      "2     119372   49       1          2        133              142   \n",
      "3     132514   43       1          0        138              295   \n",
      "4     146211   31       1          1        199                0   \n",
      "\n",
      "   fastingbloodsugar  restingrelectro  maxheartrate  exerciseangia  oldpeak  \\\n",
      "0                  0                1           147              0      5.3   \n",
      "1                  0                1           115              0      3.7   \n",
      "2                  0                0           202              1      5.0   \n",
      "3                  1                1           153              0      3.2   \n",
      "4                  0                2           136              0      5.3   \n",
      "\n",
      "   slope  noofmajorvessels  target  \n",
      "0      3                 3       1  \n",
      "1      1                 1       0  \n",
      "2      1                 0       0  \n",
      "3      2                 2       1  \n",
      "4      3                 2       1  \n"
     ]
    }
   ],
   "source": [
    "df = pd.read_csv(\"Cardiovascular_Disease_Dataset.csv\")\n",
    "print(df.head())"
   ]
  },
  {
   "cell_type": "code",
   "execution_count": 32,
   "id": "6bd9caf2-c8b0-4c74-ab7d-c8b914092379",
   "metadata": {
    "scrolled": true
   },
   "outputs": [
    {
     "name": "stdout",
     "output_type": "stream",
     "text": [
      "     age  gender  chestpain  restingBP  serumcholestrol  fastingbloodsugar  \\\n",
      "0     53       1          2        171                0                  0   \n",
      "1     40       1          0         94              229                  0   \n",
      "2     49       1          2        133              142                  0   \n",
      "3     43       1          0        138              295                  1   \n",
      "4     31       1          1        199                0                  0   \n",
      "..   ...     ...        ...        ...              ...                ...   \n",
      "995   48       1          2        139              349                  0   \n",
      "996   47       1          3        143              258                  1   \n",
      "997   69       1          0        156              434                  1   \n",
      "998   45       1          1        186              417                  0   \n",
      "999   25       1          0        158              270                  0   \n",
      "\n",
      "     restingrelectro  maxheartrate  exerciseangia  oldpeak  slope  \\\n",
      "0                  1           147              0      5.3      3   \n",
      "1                  1           115              0      3.7      1   \n",
      "2                  0           202              1      5.0      1   \n",
      "3                  1           153              0      3.2      2   \n",
      "4                  2           136              0      5.3      3   \n",
      "..               ...           ...            ...      ...    ...   \n",
      "995                2           183              1      5.6      2   \n",
      "996                1            98              1      5.7      1   \n",
      "997                0           196              0      1.4      3   \n",
      "998                1           117              1      5.9      3   \n",
      "999                0           143              1      4.7      0   \n",
      "\n",
      "     noofmajorvessels  \n",
      "0                   3  \n",
      "1                   1  \n",
      "2                   0  \n",
      "3                   2  \n",
      "4                   2  \n",
      "..                ...  \n",
      "995                 2  \n",
      "996                 0  \n",
      "997                 1  \n",
      "998                 2  \n",
      "999                 0  \n",
      "\n",
      "[1000 rows x 12 columns]\n",
      "0      1\n",
      "1      0\n",
      "2      0\n",
      "3      1\n",
      "4      1\n",
      "      ..\n",
      "995    1\n",
      "996    0\n",
      "997    1\n",
      "998    1\n",
      "999    0\n",
      "Name: target, Length: 1000, dtype: int64\n"
     ]
    }
   ],
   "source": [
    "x_train = df.drop([\"target\",\"patientid\"],axis=1)\n",
    "y_train = df[\"target\"]\n",
    "print(x_train)\n",
    "print(y_train)"
   ]
  },
  {
   "cell_type": "code",
   "execution_count": 34,
   "id": "7f6e18e7-a4e7-4ad4-b475-f838c840b990",
   "metadata": {},
   "outputs": [],
   "source": [
    "def sigmoid(z):\n",
    "    return 1/(1+np.exp(-z))"
   ]
  },
  {
   "cell_type": "code",
   "execution_count": 36,
   "id": "5e80189e-5e5e-4d56-8bea-636e93c0765b",
   "metadata": {},
   "outputs": [],
   "source": [
    "def compute_logistic_cost(x,y,w,b):\n",
    "    m = x.shape[0]\n",
    "    cost = 0\n",
    "    for i in range(m):\n",
    "        z = np.dot(w,x[i]) + b\n",
    "        f_wb = sigmoid(z)\n",
    "        cost += -y[i] * np.log(f_wb) - (1-y[i])*np.log(1-f_wb)\n",
    "    return cost/m\n",
    "        "
   ]
  },
  {
   "cell_type": "code",
   "execution_count": 38,
   "id": "1027672c-5b7f-4f8a-b14e-b2ed189db516",
   "metadata": {},
   "outputs": [],
   "source": [
    "def compute_gradient(x,y,w,b):\n",
    "    m,n = x.shape\n",
    "    dj_dw = np.zeros(n)\n",
    "    dj_db = 0\n",
    "    for i in range(m):\n",
    "        f_wb = sigmoid(np.dot(x[i],w)+b)\n",
    "        err = f_wb - y[i]\n",
    "        for j in range(n):\n",
    "            dj_dw[j] += err * x[i,j]\n",
    "        dj_db += err\n",
    "    return dj_dw/m,dj_db/m"
   ]
  },
  {
   "cell_type": "code",
   "execution_count": 68,
   "id": "e70e56d1-5603-40ec-b072-b6ab97af5d83",
   "metadata": {},
   "outputs": [],
   "source": [
    "def gradient_descent(x,y,w_in,b_in,num_iters,alpha):\n",
    "    w = w_in\n",
    "    b = b_in\n",
    "    j = []\n",
    "    for i in range(num_iters):\n",
    "        dj_dw,dj_db = compute_gradient(x,y,w,b)\n",
    "\n",
    "        w = w - alpha*dj_dw\n",
    "        b = b - alpha*dj_db\n",
    "\n",
    "        if i<100000:\n",
    "            j.append(compute_logistic_cost(x,y,w,b))\n",
    "\n",
    "        if i%1000 == 0:\n",
    "            print(f\"Iteration : {i} - Cost : {j[-1]}\")\n",
    "    \n",
    "    return w,b"
   ]
  },
  {
   "cell_type": "code",
   "execution_count": 112,
   "id": "24c57681-d596-4f55-88bb-94032cdeba68",
   "metadata": {},
   "outputs": [
    {
     "name": "stdout",
     "output_type": "stream",
     "text": [
      "Iteration : 0 - Cost : 0.6502780338088572\n",
      "Iteration : 1000 - Cost : 0.10984134672046524\n",
      "Iteration : 2000 - Cost : 0.09795571702663604\n",
      "Iteration : 3000 - Cost : 0.0935133342600591\n",
      "Iteration : 4000 - Cost : 0.09130713738592948\n",
      "w : [-0.05393373  1.05896925  0.97800913  1.01480582  0.07969583  0.37143673\n",
      "  0.84281971  0.45919117 -0.03776919 -1.60341286  5.68918438  0.16442502], b: 1.5980909328308992\n"
     ]
    }
   ],
   "source": [
    "from sklearn.preprocessing import StandardScaler\n",
    "scaler = StandardScaler()\n",
    "x_train_scaled = scaler.fit_transform(x_train)\n",
    "n = x_train.shape[1]\n",
    "alpha = 0.1\n",
    "num_iters = 5000\n",
    "w = np.zeros(n,)\n",
    "b = 0\n",
    "w,b = gradient_descent(x_train_scaled,y_train,w,b,num_iters,alpha)\n",
    "print(f\"w : {w}, b: {b}\")"
   ]
  },
  {
   "cell_type": "code",
   "execution_count": 154,
   "id": "0b6a42b0-dfb5-43a0-952a-875af93724d0",
   "metadata": {},
   "outputs": [
    {
     "name": "stdout",
     "output_type": "stream",
     "text": [
      "[0.99995184]\n"
     ]
    }
   ],
   "source": [
    "x_test = [[53,1,2,171,0,0,1,147,0,5.3,3,3]]\n",
    "x_test_df = pd.DataFrame(x_test, columns=x_train.columns)\n",
    "x_test_scaled = scaler.transform(x_test_df)\n",
    "print(sigmoid(np.dot(x_test_scaled,w)+b))"
   ]
  },
  {
   "cell_type": "code",
   "execution_count": 156,
   "id": "4dddbf03-ae42-4664-8833-0664bc76d9c5",
   "metadata": {},
   "outputs": [
    {
     "name": "stdout",
     "output_type": "stream",
     "text": [
      "Accuracy: 97.20%\n"
     ]
    }
   ],
   "source": [
    "m = x_train.shape[0]\n",
    "f_wb = np.zeros(m)\n",
    "for i in range(m):\n",
    "    f_wb[i] = sigmoid(np.dot(w, x_train_scaled[i]) + b)\n",
    "\n",
    "# Convert probabilities to 0/1 labels before accuracy\n",
    "pred_labels = (f_wb >= 0.4).astype(int)\n",
    "\n",
    "from sklearn.metrics import accuracy_score\n",
    "acc = accuracy_score(y_train, pred_labels)\n",
    "print(f\"Accuracy: {acc*100:.2f}%\")\n",
    "\n"
   ]
  },
  {
   "cell_type": "code",
   "execution_count": null,
   "id": "c637ec5a-155b-4297-a0be-27be7e1b6384",
   "metadata": {},
   "outputs": [],
   "source": []
  }
 ],
 "metadata": {
  "kernelspec": {
   "display_name": "Python 3 (ipykernel)",
   "language": "python",
   "name": "python3"
  },
  "language_info": {
   "codemirror_mode": {
    "name": "ipython",
    "version": 3
   },
   "file_extension": ".py",
   "mimetype": "text/x-python",
   "name": "python",
   "nbconvert_exporter": "python",
   "pygments_lexer": "ipython3",
   "version": "3.12.7"
  }
 },
 "nbformat": 4,
 "nbformat_minor": 5
}
